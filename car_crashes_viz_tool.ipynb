{
 "cells": [
  {
   "cell_type": "code",
   "execution_count": 11,
   "metadata": {},
   "outputs": [],
   "source": [
    "# Imports \n",
    "import seaborn as sns\n",
    "import pandas as pd\n",
    "import matplotlib.pyplot as plt\n",
    "\n",
    "data = sns.load_dataset('car_crashes')"
   ]
  },
  {
   "cell_type": "code",
   "execution_count": 12,
   "metadata": {},
   "outputs": [
    {
     "name": "stdout",
     "output_type": "stream",
     "text": [
      "total             0\n",
      "speeding          0\n",
      "alcohol           0\n",
      "not_distracted    0\n",
      "no_previous       0\n",
      "ins_premium       0\n",
      "ins_losses        0\n",
      "abbrev            0\n",
      "dtype: int64\n"
     ]
    }
   ],
   "source": [
    "# Check for missing values \n",
    "print(data.isnull().sum())\n"
   ]
  },
  {
   "cell_type": "code",
   "execution_count": 13,
   "metadata": {},
   "outputs": [],
   "source": [
    "def plot_data(column_name):\n",
    "    if data[column_name].dtype in ['int64', 'float64']:\n",
    "    # Create histogram for numeric data\n",
    "        plt.hist(data[column_name], bins=20)\n",
    "        plt.title(f'Histogram of {column_name}')\n",
    "        plt.xlabel(column_name)\n",
    "        plt.ylabel('Number of States')\n",
    "        plt.savefig(f'{column_name}_histogram.png')\n",
    "        plt.show()\n",
    "    else: \n",
    "    # Create bar plot for categorical data like states\n",
    "        data.sort_values(by=column_name, ascending=False).head(10)[column_name].plot(kind='bar')\n",
    "        plt.title(f'Top 10 states by {column_name}')\n",
    "        plt.xlabel('State')\n",
    "        plt.ylabel(column_name)\n",
    "        plt.savefig(f'{column_name}_bar_plot.png')\n",
    "        plt.show()"
   ]
  },
  {
   "cell_type": "code",
   "execution_count": 17,
   "metadata": {},
   "outputs": [
    {
     "name": "stdout",
     "output_type": "stream",
     "text": [
      "Columns in the car_crashes dataset:  ['total', 'speeding', 'alcohol', 'not_distracted', 'no_previous', 'ins_premium', 'ins_losses', 'abbrev']\n"
     ]
    },
    {
     "data": {
      "image/png": "[encoded data removed]",
      "text/plain": [
       "<Figure size 640x480 with 1 Axes>"
      ]
     },
     "metadata": {},
     "output_type": "display_data"
    }
   ],
   "source": [
    "def main():\n",
    "    columns = data.columns.tolist()\n",
    "\n",
    "    print(\"Columns in the car_crashes dataset: \", columns)\n",
    "    column_name = input(\"Choose a column for visualization: \")\n",
    "\n",
    "    if column_name not in columns:\n",
    "        print(\"Invalid column choice.\")\n",
    "        return\n",
    "    \n",
    "    plot_data(column_name)\n",
    "    \n",
    "if __name__ == '__main__':\n",
    "    main()"
   ]
  }
 ],
 "metadata": {
  "kernelspec": {
   "display_name": "Python 3",
   "language": "python",
   "name": "python3"
  },
  "language_info": {
   "codemirror_mode": {
    "name": "ipython",
    "version": 3
   },
   "file_extension": ".py",
   "mimetype": "text/x-python",
   "name": "python",
   "nbconvert_exporter": "python",
   "pygments_lexer": "ipython3",
   "version": "3.9.13"
  },
  "orig_nbformat": 4
 },
 "nbformat": 4,
 "nbformat_minor": 2
}
